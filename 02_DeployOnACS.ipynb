{
 "cells": [
  {
   "cell_type": "markdown",
   "metadata": {
    "collapsed": true
   },
   "source": [
    "### Deploy Web App on Azure Container Services (ACS)\n",
    "In this notebook we will set up an Azure Container Service which will be managed by DC/OS. We will then take the Docker image we created earlier that contains our app and deploy it to the ACS cluster. Then we will check everything is working by sending an image to it and getting it scored.\n",
    "\n",
    "The process is split into the following steps:\n",
    "* [Define our resource names](#section1)\n",
    "* [Login to Azure](#section2)\n",
    "* [Create the ACS](#section3)\n",
    "* [Create a tunnel to the head node](#section4)\n",
    "* [Create a JSON schema of our APP and push it to the cluster](#section5)\n",
    "* [Test our app](TestWebApp.ipynb)\n",
    "* [Tear it all down](#section7)\n",
    "\n",
    "This guide assumes is designed to be run on linux and requires that the Azure CLI is installed."
   ]
  },
  {
   "cell_type": "markdown",
   "metadata": {},
   "source": [
    "<a id='section1'></a>"
   ]
  },
  {
   "cell_type": "markdown",
   "metadata": {},
   "source": [
    "## Setup\n",
    "Below are the various name definitions for the resources needed to setup ACS as well as the name of the Docker image we will be using."
   ]
  },
  {
   "cell_type": "markdown",
   "metadata": {},
   "source": [
    "**Some outputs (and inputs) below have been hidden/masked for confidentiality**"
   ]
  },
  {
   "cell_type": "code",
   "execution_count": 140,
   "metadata": {},
   "outputs": [],
   "source": [
    "resource_group = \"m*****g\" # Feel free to modify these\n",
    "acs_name = \"m*****s\"\n",
    "location = \"s*****s\"\n",
    "\n",
    "image_name = 'masalvar/cntkresnet' \n",
    "selected_subscription = \"'Azure *****'\" # If you have multiple subscriptions select \n",
    "                                        # the subscription you want to use here"
   ]
  },
  {
   "cell_type": "markdown",
   "metadata": {
    "collapsed": true
   },
   "source": [
    "<a id='section2'></a>"
   ]
  },
  {
   "cell_type": "markdown",
   "metadata": {},
   "source": [
    "## Azure account login\n",
    "The command below will initiate a login to your Azure account. It will pop up with an url to go to where you will enter a one off code and log into your Azure account using your browser."
   ]
  },
  {
   "cell_type": "code",
   "execution_count": null,
   "metadata": {
    "scrolled": true
   },
   "outputs": [],
   "source": [
    "!az login -o table"
   ]
  },
  {
   "cell_type": "code",
   "execution_count": 141,
   "metadata": {
    "collapsed": true
   },
   "outputs": [],
   "source": [
    "!az account set --subscription $selected_subscription"
   ]
  },
  {
   "cell_type": "code",
   "execution_count": null,
   "metadata": {},
   "outputs": [],
   "source": [
    "!az account show"
   ]
  },
  {
   "cell_type": "markdown",
   "metadata": {},
   "source": [
    "<a id='section3'></a>"
   ]
  },
  {
   "cell_type": "markdown",
   "metadata": {},
   "source": [
    "## Create resources and dependencies"
   ]
  },
  {
   "cell_type": "markdown",
   "metadata": {},
   "source": [
    "### Create resource group\n",
    "Azure encourages the use of groups to organise all the Azure components you deploy. That way it is easier to find them but also we can deleted a number of resources simply by deleting the group."
   ]
  },
  {
   "cell_type": "code",
   "execution_count": null,
   "metadata": {},
   "outputs": [],
   "source": [
    "!az group create --name $resource_group --location $location"
   ]
  },
  {
   "cell_type": "markdown",
   "metadata": {},
   "source": [
    "### Create ssh\n",
    "Create ssh key if one not present. This is needed for the tunnel we will be creating to the head node in order to interact with Marathon."
   ]
  },
  {
   "cell_type": "code",
   "execution_count": null,
   "metadata": {
    "collapsed": true
   },
   "outputs": [],
   "source": [
    "import os\n",
    "if not os.path.exists('{}/.ssh/id_rsa'.format(os.environ['HOME'])):\n",
    "    !ssh-keygen -t rsa -b 2048 -N \"\" -f ~/.ssh/id_rsa"
   ]
  },
  {
   "cell_type": "markdown",
   "metadata": {},
   "source": [
    "### Create ACS\n",
    "We are going to deploy a small pool of 2 Standard D2 VMs. Each VM has 2 cores and 7 GB of RAM. This is the default choice when setting up an ACS cluster. "
   ]
  },
  {
   "cell_type": "code",
   "execution_count": 145,
   "metadata": {},
   "outputs": [],
   "source": [
    "json_data=!az acs create --name $acs_name --resource-group $resource_group --admin-username mat --dns-prefix $acs_name --agent-count 2"
   ]
  },
  {
   "cell_type": "code",
   "execution_count": 146,
   "metadata": {},
   "outputs": [],
   "source": [
    "json_dict = json.loads(''.join(json_data))"
   ]
  },
  {
   "cell_type": "code",
   "execution_count": 147,
   "metadata": {},
   "outputs": [
    {
     "name": "stdout",
     "output_type": "stream",
     "text": [
      "Succensfully provisioned ACS mscntkacs\n"
     ]
    }
   ],
   "source": [
    "if json_dict['properties']['provisioningState'] == 'Succeeded':\n",
    "    print('Succensfully provisioned ACS {}'.format(acs_name))\n",
    "    _,ssh_addr,_,_,ssh_port, = json_dict['properties']['outputs']['sshMaster0']['value'].split()"
   ]
  },
  {
   "cell_type": "markdown",
   "metadata": {},
   "source": [
    "We can check to see if our ACS cluster was succesuflly provisioned with the command below."
   ]
  },
  {
   "cell_type": "code",
   "execution_count": null,
   "metadata": {},
   "outputs": [],
   "source": [
    "!az acs list --resource-group $resource_group --output table"
   ]
  },
  {
   "cell_type": "markdown",
   "metadata": {},
   "source": [
    "With the below command we can check various of the properties of our ACS cluster."
   ]
  },
  {
   "cell_type": "code",
   "execution_count": null,
   "metadata": {},
   "outputs": [],
   "source": [
    "!az acs show --name $acs_name --resource-group $resource_group"
   ]
  },
  {
   "cell_type": "markdown",
   "metadata": {},
   "source": [
    "From the JSON above we can see that we indeed have a cluster of two D2 VMs"
   ]
  },
  {
   "cell_type": "markdown",
   "metadata": {},
   "source": [
    "<a id='section4'></a>"
   ]
  },
  {
   "cell_type": "markdown",
   "metadata": {},
   "source": [
    "## Create SSH tunnel\n",
    "Create ssh tunnel from dsvm to ACS cluster management"
   ]
  },
  {
   "cell_type": "code",
   "execution_count": 151,
   "metadata": {},
   "outputs": [
    {
     "name": "stdout",
     "output_type": "stream",
     "text": [
      "Starting job # 7 in a separate thread.\n"
     ]
    }
   ],
   "source": [
    "%%bash --bg -s $ssh_port $ssh_addr\n",
    "ssh -o StrictHostKeyChecking=no -fNL 1212:localhost:80 -p $1 $2"
   ]
  },
  {
   "cell_type": "markdown",
   "metadata": {},
   "source": [
    "<a id='section5'></a>"
   ]
  },
  {
   "cell_type": "markdown",
   "metadata": {},
   "source": [
    "## Marathon deployment\n",
    "Below we create a JSON schema of our application which we will then pass to marathon. Using this schema Marathon will spin up our application in ACS."
   ]
  },
  {
   "cell_type": "code",
   "execution_count": 152,
   "metadata": {
    "collapsed": true
   },
   "outputs": [],
   "source": [
    "application_id = \"/cntkresnet\""
   ]
  },
  {
   "cell_type": "code",
   "execution_count": 153,
   "metadata": {},
   "outputs": [],
   "source": [
    "app_template = {\n",
    "  \"id\": application_id,\n",
    "  \"cmd\": None,\n",
    "  \"cpus\": 1,\n",
    "  \"mem\": 1024,\n",
    "  \"disk\": 100,\n",
    "  \"instances\": 1,\n",
    "  \"acceptedResourceRoles\": [\n",
    "    \"slave_public\"\n",
    "  ],\n",
    "  \"container\": {\n",
    "    \"type\": \"DOCKER\",\n",
    "    \"volumes\": [],\n",
    "    \"docker\": {\n",
    "      \"image\": image_name,\n",
    "      \"network\": \"BRIDGE\",\n",
    "      \"portMappings\": [\n",
    "        {\n",
    "          \"containerPort\": 88,\n",
    "          \"hostPort\": 80,\n",
    "          \"protocol\": \"tcp\",\n",
    "          \"name\": \"80\",\n",
    "          \"labels\": {}\n",
    "        }\n",
    "      ],\n",
    "      \"privileged\": False,\n",
    "      \"parameters\": [],\n",
    "      \"forcePullImage\": True\n",
    "    }\n",
    "  },\n",
    "  \"healthChecks\": [\n",
    "    {\n",
    "      \"path\": \"/\",\n",
    "      \"protocol\": \"HTTP\",\n",
    "      \"portIndex\": 0,\n",
    "      \"gracePeriodSeconds\": 300,\n",
    "      \"intervalSeconds\": 60,\n",
    "      \"timeoutSeconds\": 20,\n",
    "      \"maxConsecutiveFailures\": 3\n",
    "    }\n",
    "  ]\n",
    "}"
   ]
  },
  {
   "cell_type": "code",
   "execution_count": 154,
   "metadata": {
    "collapsed": true
   },
   "outputs": [],
   "source": [
    "def write_json_to_file(json_dict, filename):\n",
    "    with open(filename, 'w') as outfile:\n",
    "        json.dump(json_dict, outfile)"
   ]
  },
  {
   "cell_type": "code",
   "execution_count": 155,
   "metadata": {
    "collapsed": true
   },
   "outputs": [],
   "source": [
    "write_json_to_file(app_template, 'marathon.json')"
   ]
  },
  {
   "cell_type": "code",
   "execution_count": 156,
   "metadata": {},
   "outputs": [
    {
     "name": "stdout",
     "output_type": "stream",
     "text": [
      "{\"id\":\"/cntkresnet\",\"cmd\":null,\"args\":null,\"user\":null,\"env\":{},\"instances\":1,\"cpus\":1,\"mem\":1024,\"disk\":100,\"gpus\":0,\"executor\":\"\",\"constraints\":[],\"uris\":[],\"fetch\":[],\"storeUrls\":[],\"backoffSeconds\":1,\"backoffFactor\":1.15,\"maxLaunchDelaySeconds\":3600,\"container\":{\"type\":\"DOCKER\",\"volumes\":[],\"docker\":{\"image\":\"masalvar/cntkresnet\",\"network\":\"BRIDGE\",\"portMappings\":[{\"containerPort\":88,\"hostPort\":80,\"servicePort\":0,\"protocol\":\"tcp\",\"name\":\"80\",\"labels\":{}}],\"privileged\":false,\"parameters\":[],\"forcePullImage\":true}},\"healthChecks\":[{\"path\":\"/\",\"protocol\":\"HTTP\",\"portIndex\":0,\"gracePeriodSeconds\":300,\"intervalSeconds\":60,\"timeoutSeconds\":20,\"maxConsecutiveFailures\":3,\"ignoreHttp1xx\":false}],\"readinessChecks\":[],\"dependencies\":[],\"upgradeStrategy\":{\"minimumHealthCapacity\":1,\"maximumOverCapacity\":1},\"labels\":{},\"acceptedResourceRoles\":[\"slave_public\"],\"ipAddress\":null,\"version\":\"2017-04-16T13:49:11.106Z\",\"residency\":null,\"secrets\":{},\"taskKillGracePeriodSeconds\":null,\"ports\":[0],\"portDefinitions\":[{\"port\":0,\"protocol\":\"tcp\",\"labels\":{}}],\"requirePorts\":false,\"tasksStaged\":0,\"tasksRunning\":0,\"tasksHealthy\":0,\"tasksUnhealthy\":0,\"deployments\":[{\"id\":\"903f3e66-919a-4f81-a109-7a756d223457\"}],\"tasks\":[]}"
     ]
    }
   ],
   "source": [
    "!curl -X POST http://localhost:1212/marathon/v2/apps -d @marathon.json -H \"Content-type: application/json\""
   ]
  },
  {
   "cell_type": "code",
   "execution_count": 157,
   "metadata": {},
   "outputs": [
    {
     "name": "stdout",
     "output_type": "stream",
     "text": [
      "Preparing Web app\n",
      "Preparing Web app\n",
      "Preparing Web app\n",
      "Preparing Web app\n",
      "Preparing Web app\n",
      "Preparing Web app\n",
      "Preparing Web app\n",
      "Preparing Web app\n",
      "Preparing Web app\n",
      "Preparing Web app\n",
      "Preparing Web app\n",
      "Preparing Web app\n",
      "Preparing Web app\n",
      "Preparing Web app\n",
      "Preparing Web app\n",
      "Preparing Web app\n",
      "Web app ready\n"
     ]
    }
   ],
   "source": [
    "from time import sleep\n",
    "for i in range(20):\n",
    "    json_data = !curl http://localhost:1212/marathon/v2/apps\n",
    "    if json.loads(json_data[-1])['apps'][0]['tasksRunning']==1:\n",
    "        print('Web app ready')\n",
    "        break\n",
    "    else:\n",
    "        print('Preparing Web app')\n",
    "    sleep(10)\n",
    "else:\n",
    "    print('Timeout! Something went wrong!')"
   ]
  },
  {
   "cell_type": "markdown",
   "metadata": {},
   "source": [
    "You can also monitor the deployment of the application by pointing your browser at http://localhost:1200/#/services/  \n",
    "For further notes on the Marathon REST API look [here](https://mesosphere.github.io/marathon/docs/rest-api.html)"
   ]
  },
  {
   "cell_type": "code",
   "execution_count": 158,
   "metadata": {},
   "outputs": [],
   "source": [
    "app_url = json_dict['properties']['outputs']['agentFQDN']['value']"
   ]
  },
  {
   "cell_type": "code",
   "execution_count": 160,
   "metadata": {},
   "outputs": [
    {
     "name": "stdout",
     "output_type": "stream",
     "text": [
      "Application URL: mscntkacsagents.southcentralus.cloudapp.azure.com\n",
      "Application ID: /cntkresnet\n"
     ]
    }
   ],
   "source": [
    "print('Application URL: {}'.format(app_url))\n",
    "print('Application ID: {}'.format(application_id))"
   ]
  },
  {
   "cell_type": "markdown",
   "metadata": {},
   "source": [
    "Once it is all set up you can test the app out in the [Test Web App](TestWebApp.ipynb) notebook."
   ]
  },
  {
   "cell_type": "markdown",
   "metadata": {
    "collapsed": true
   },
   "source": [
    "<a id='section7'></a>"
   ]
  },
  {
   "cell_type": "markdown",
   "metadata": {},
   "source": [
    "## Tear it all down \n",
    "Once you are done with your ACS you can use the following two commands to destroy it all."
   ]
  },
  {
   "cell_type": "code",
   "execution_count": 161,
   "metadata": {},
   "outputs": [],
   "source": [
    "!az acs delete --resource-group $resource_group --name $acs_name"
   ]
  },
  {
   "cell_type": "code",
   "execution_count": 162,
   "metadata": {},
   "outputs": [],
   "source": [
    "!az group delete --name $resource_group -y"
   ]
  }
 ],
 "metadata": {
  "anaconda-cloud": {},
  "kernelspec": {
   "display_name": "Python [conda env:ship3]",
   "language": "python",
   "name": "conda-env-ship3-py"
  },
  "language_info": {
   "codemirror_mode": {
    "name": "ipython",
    "version": 3
   },
   "file_extension": ".py",
   "mimetype": "text/x-python",
   "name": "python",
   "nbconvert_exporter": "python",
   "pygments_lexer": "ipython3",
   "version": "3.5.3"
  }
 },
 "nbformat": 4,
 "nbformat_minor": 1
}
